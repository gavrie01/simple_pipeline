{
 "cells": [
  {
   "cell_type": "markdown",
   "metadata": {},
   "source": [
    "**Topic: Weather**\n",
    "\n",
    "In the Notebook we work with extraction via https://www.meteomatics.com/, basic, non-commercial subscription.\n",
    "\n",
    "We are using end point with the following structure: api.meteomatics.com/validdatetime/parameters/locations/format?optionals in combination with password anf login. \n",
    "\n",
    "There is not that much records retrieved, it is almost nothing for a real data research, how ever I am showcasing the process itself.\n"
   ]
  },
  {
   "cell_type": "code",
   "execution_count": 1,
   "metadata": {},
   "outputs": [
    {
     "name": "stdout",
     "output_type": "stream",
     "text": [
      "Requirement already satisfied: requests in c:\\users\\elena\\anaconda3\\envs\\pp\\lib\\site-packages (2.31.0)\n",
      "Requirement already satisfied: charset-normalizer<4,>=2 in c:\\users\\elena\\anaconda3\\envs\\pp\\lib\\site-packages (from requests) (3.3.2)\n",
      "Requirement already satisfied: idna<4,>=2.5 in c:\\users\\elena\\anaconda3\\envs\\pp\\lib\\site-packages (from requests) (3.6)\n",
      "Requirement already satisfied: urllib3<3,>=1.21.1 in c:\\users\\elena\\anaconda3\\envs\\pp\\lib\\site-packages (from requests) (2.2.1)\n",
      "Requirement already satisfied: certifi>=2017.4.17 in c:\\users\\elena\\anaconda3\\envs\\pp\\lib\\site-packages (from requests) (2024.2.2)\n",
      "Requirement already satisfied: python-dotenv in c:\\users\\elena\\anaconda3\\envs\\pp\\lib\\site-packages (1.0.1)\n"
     ]
    }
   ],
   "source": [
    "# let us install a couple of libraries\n",
    "!pip install requests  # works with requests, in our case we need  parametrized 'get'\n",
    "!pip install python-dotenv # this one we use for storage of configuration parameters. '.env' is gitignored since contains private info."
   ]
  },
  {
   "cell_type": "code",
   "execution_count": 10,
   "metadata": {},
   "outputs": [],
   "source": [
    "#import of libraries we need to proceed\n",
    "import requests\n",
    "import pandas as pd\n",
    "from dotenv import load_dotenv\n",
    "import os\n",
    "import io\n",
    "import numpy as np\n"
   ]
  },
  {
   "cell_type": "markdown",
   "metadata": {},
   "source": [
    "Here we create .env file manually and add the following parameters: METEOMATICS_USERNAME, METEOMATICS_PASSWORD, API_URL in there.\n",
    "As API_URL we use \"https://api.meteomatics.com/2024-08-30T00:00:00Z--2024-09-10T00:00:00Z:PT1H/t_2m:C/52.520551,13.461804/csv\"\n",
    "\n",
    "In the above example we have:\n",
    "\n",
    "* 2024-08-30T00:00:00Z--2024-09-10T00:00:00Z - dates period\n",
    "\n",
    "* PT1H - time step, which is one hour in this case\n",
    "\n",
    "* t_2m:C - temperature in Celsius, 2 meters above ground level\n",
    "\n",
    "* 52.520551,13.461804 - latitude, longitude, this is central part of Berlin, Germany\n",
    "\n",
    "* csv - format for downloading\n",
    "\n",
    "\n",
    "In case we need to change dates interval, we change it in .env and restart the kernel of jupyter notebook, then we do re-run of cells so the updated data retrieved.\n"
   ]
  },
  {
   "cell_type": "code",
   "execution_count": 11,
   "metadata": {},
   "outputs": [
    {
     "name": "stdout",
     "output_type": "stream",
     "text": [
      "Loaded URL from .env: https://api.meteomatics.com/2024-08-30T00:00:00Z--2024-09-10T00:00:00Z:PT1H/t_2m:C/52.520551,13.461804/csv\n"
     ]
    }
   ],
   "source": [
    "load_dotenv() # Load environment variables from .env file\n",
    "\n",
    "# Retrieve credentials from environment variables\n",
    "username = os.getenv(\"METEOMATICS_USERNAME\")\n",
    "password = os.getenv(\"METEOMATICS_PASSWORD\")\n",
    "url = os.getenv(\"API_URL\")\n",
    "\n",
    "# we print the result to be sure parameters are fetched correctly\n",
    "print(f\"Loaded URL from .env: {url}\")"
   ]
  },
  {
   "cell_type": "code",
   "execution_count": 12,
   "metadata": {},
   "outputs": [
    {
     "name": "stdout",
     "output_type": "stream",
     "text": [
      "b'validdate;t_2m:C\\n2024-08-30T00:00:00Z;22.2\\n2024-08-30T01:00:00Z;20.8\\n2024-08-30T02:00:00Z;20.7\\n2024-08-30T03:00:00Z;18.7\\n2024-08-30T04:00:00Z;19.4\\n2024-08-30T05:00:00Z;21.1\\n2024-08-30T06:00:00Z;22.7\\n2024-08-30T07:00:00Z;23.7\\n2024-08-30T08:00:00Z;24.0\\n2024-08-30T09:00:00Z;25.7\\n2024-08-30T10:00:00Z;27.4\\n2024-08-30T11:00:00Z;28.6\\n2024-08-30T12:00:00Z;28.7\\n2024-08-30T13:00:00Z;29.0\\n2024-08-30T14:00:00Z;26.5\\n2024-08-30T15:00:00Z;25.6\\n2024-08-30T16:00:00Z;25.1\\n2024-08-30T17:00:00Z;23.7\\n2024-08-30T18:00:00Z;22.1\\n2024-08-30T19:00:00Z;21.1\\n2024-08-30T20:00:00Z;20.4\\n2024-08-30T21:00:00Z;19.6\\n2024-08-30T22:00:00Z;17.8\\n2024-08-30T23:00:00Z;16.7\\n2024-08-31T00:00:00Z;15.7\\n2024-08-31T01:00:00Z;15.3\\n2024-08-31T02:00:00Z;15.1\\n2024-08-31T03:00:00Z;14.6\\n2024-08-31T04:00:00Z;14.4\\n2024-08-31T05:00:00Z;14.8\\n2024-08-31T06:00:00Z;16.1\\n2024-08-31T07:00:00Z;17.5\\n2024-08-31T08:00:00Z;19.3\\n2024-08-31T09:00:00Z;20.5\\n2024-08-31T10:00:00Z;21.7\\n2024-08-31T11:00:00Z;22.6\\n2024-08-31T12:00:00Z;23.3\\n2024-08-31T13:00:00Z;23.7\\n2024-08-31T14:00:00Z;23.9\\n2024-08-31T15:00:00Z;23.7\\n2024-08-31T16:00:00Z;23.1\\n2024-08-31T17:00:00Z;22.2\\n2024-08-31T18:00:00Z;20.5\\n2024-08-31T19:00:00Z;19.0\\n2024-08-31T20:00:00Z;17.6\\n2024-08-31T21:00:00Z;16.6\\n2024-08-31T22:00:00Z;15.9\\n2024-08-31T23:00:00Z;15.3\\n2024-09-01T00:00:00Z;14.8\\n2024-09-01T01:00:00Z;14.3\\n2024-09-01T02:00:00Z;14.0\\n2024-09-01T03:00:00Z;13.6\\n2024-09-01T04:00:00Z;13.6\\n2024-09-01T05:00:00Z;13.8\\n2024-09-01T06:00:00Z;15.0\\n2024-09-01T07:00:00Z;17.1\\n2024-09-01T08:00:00Z;19.4\\n2024-09-01T09:00:00Z;21.4\\n2024-09-01T10:00:00Z;22.6\\n2024-09-01T11:00:00Z;23.5\\n2024-09-01T12:00:00Z;24.2\\n2024-09-01T13:00:00Z;24.7\\n2024-09-01T14:00:00Z;24.7\\n2024-09-01T15:00:00Z;24.4\\n2024-09-01T16:00:00Z;23.6\\n2024-09-01T17:00:00Z;22.5\\n2024-09-01T18:00:00Z;20.6\\n2024-09-01T19:00:00Z;19.7\\n2024-09-01T20:00:00Z;18.9\\n2024-09-01T21:00:00Z;18.0\\n2024-09-01T22:00:00Z;17.2\\n2024-09-01T23:00:00Z;16.5\\n2024-09-02T00:00:00Z;15.7\\n2024-09-02T01:00:00Z;15.2\\n2024-09-02T02:00:00Z;14.7\\n2024-09-02T03:00:00Z;14.2\\n2024-09-02T04:00:00Z;14.8\\n2024-09-02T05:00:00Z;15.3\\n2024-09-02T06:00:00Z;15.9\\n2024-09-02T07:00:00Z;18.1\\n2024-09-02T08:00:00Z;20.3\\n2024-09-02T09:00:00Z;22.4\\n2024-09-02T10:00:00Z;23.7\\n2024-09-02T11:00:00Z;24.9\\n2024-09-02T12:00:00Z;26.2\\n2024-09-02T13:00:00Z;26.5\\n2024-09-02T14:00:00Z;26.8\\n2024-09-02T15:00:00Z;27.1\\n2024-09-02T16:00:00Z;26.0\\n2024-09-02T17:00:00Z;24.9\\n2024-09-02T18:00:00Z;23.8\\n2024-09-02T19:00:00Z;23.0\\n2024-09-02T20:00:00Z;22.2\\n2024-09-02T21:00:00Z;21.4\\n2024-09-02T22:00:00Z;20.9\\n2024-09-02T23:00:00Z;20.5\\n2024-09-03T00:00:00Z;20.1\\n2024-09-03T01:00:00Z;19.7\\n2024-09-03T02:00:00Z;19.3\\n2024-09-03T03:00:00Z;18.9\\n2024-09-03T04:00:00Z;19.3\\n2024-09-03T05:00:00Z;19.8\\n2024-09-03T06:00:00Z;20.2\\n2024-09-03T07:00:00Z;22.4\\n2024-09-03T08:00:00Z;24.6\\n2024-09-03T09:00:00Z;26.8\\n2024-09-03T10:00:00Z;28.3\\n2024-09-03T11:00:00Z;29.8\\n2024-09-03T12:00:00Z;31.3\\n2024-09-03T13:00:00Z;31.2\\n2024-09-03T14:00:00Z;31.1\\n2024-09-03T15:00:00Z;31.0\\n2024-09-03T16:00:00Z;29.7\\n2024-09-03T17:00:00Z;28.4\\n2024-09-03T18:00:00Z;27.1\\n2024-09-03T19:00:00Z;26.0\\n2024-09-03T20:00:00Z;25.0\\n2024-09-03T21:00:00Z;23.9\\n2024-09-03T22:00:00Z;23.4\\n2024-09-03T23:00:00Z;22.9\\n2024-09-04T00:00:00Z;22.3\\n2024-09-04T01:00:00Z;21.7\\n2024-09-04T02:00:00Z;21.1\\n2024-09-04T03:00:00Z;20.4\\n2024-09-04T04:00:00Z;21.0\\n2024-09-04T05:00:00Z;21.5\\n2024-09-04T06:00:00Z;22.1\\n2024-09-04T07:00:00Z;24.2\\n2024-09-04T08:00:00Z;26.4\\n2024-09-04T09:00:00Z;28.5\\n2024-09-04T10:00:00Z;30.1\\n2024-09-04T11:00:00Z;31.7\\n2024-09-04T12:00:00Z;33.3\\n2024-09-04T13:00:00Z;33.5\\n2024-09-04T14:00:00Z;33.7\\n2024-09-04T15:00:00Z;33.9\\n2024-09-04T16:00:00Z;32.4\\n2024-09-04T17:00:00Z;30.9\\n2024-09-04T18:00:00Z;29.5\\n2024-09-04T19:00:00Z;28.3\\n2024-09-04T20:00:00Z;27.1\\n2024-09-04T21:00:00Z;26.0\\n2024-09-04T22:00:00Z;25.3\\n2024-09-04T23:00:00Z;24.5\\n2024-09-05T00:00:00Z;23.8\\n2024-09-05T01:00:00Z;23.3\\n2024-09-05T02:00:00Z;22.8\\n2024-09-05T03:00:00Z;22.2\\n2024-09-05T04:00:00Z;22.5\\n2024-09-05T05:00:00Z;22.8\\n2024-09-05T06:00:00Z;23.1\\n2024-09-05T07:00:00Z;25.2\\n2024-09-05T08:00:00Z;27.2\\n2024-09-05T09:00:00Z;29.3\\n2024-09-05T10:00:00Z;30.4\\n2024-09-05T11:00:00Z;31.4\\n2024-09-05T12:00:00Z;32.5\\n2024-09-05T13:00:00Z;31.8\\n2024-09-05T14:00:00Z;31.1\\n2024-09-05T15:00:00Z;30.4\\n2024-09-05T16:00:00Z;29.7\\n2024-09-05T17:00:00Z;28.9\\n2024-09-05T18:00:00Z;28.2\\n2024-09-05T19:00:00Z;27.3\\n2024-09-05T20:00:00Z;26.5\\n2024-09-05T21:00:00Z;25.6\\n2024-09-05T22:00:00Z;24.7\\n2024-09-05T23:00:00Z;23.9\\n2024-09-06T00:00:00Z;23.0\\n2024-09-06T01:00:00Z;22.7\\n2024-09-06T02:00:00Z;22.4\\n2024-09-06T03:00:00Z;22.1\\n2024-09-06T04:00:00Z;21.8\\n2024-09-06T05:00:00Z;21.5\\n2024-09-06T06:00:00Z;21.2\\n2024-09-06T07:00:00Z;22.7\\n2024-09-06T08:00:00Z;24.3\\n2024-09-06T09:00:00Z;25.8\\n2024-09-06T10:00:00Z;27.4\\n2024-09-06T11:00:00Z;29.0\\n2024-09-06T12:00:00Z;30.5\\n2024-09-06T13:00:00Z;29.5\\n2024-09-06T14:00:00Z;28.5\\n2024-09-06T15:00:00Z;27.5\\n2024-09-06T16:00:00Z;26.5\\n2024-09-06T17:00:00Z;25.5\\n2024-09-06T18:00:00Z;24.4\\n2024-09-06T19:00:00Z;23.6\\n2024-09-06T20:00:00Z;22.7\\n2024-09-06T21:00:00Z;21.9\\n2024-09-06T22:00:00Z;21.0\\n2024-09-06T23:00:00Z;20.1\\n2024-09-07T00:00:00Z;19.3\\n2024-09-07T01:00:00Z;19.3\\n2024-09-07T02:00:00Z;19.4\\n2024-09-07T03:00:00Z;19.4\\n2024-09-07T04:00:00Z;19.5\\n2024-09-07T05:00:00Z;19.5\\n2024-09-07T06:00:00Z;19.6\\n2024-09-07T07:00:00Z;21.4\\n2024-09-07T08:00:00Z;23.3\\n2024-09-07T09:00:00Z;25.1\\n2024-09-07T10:00:00Z;27.0\\n2024-09-07T11:00:00Z;28.8\\n2024-09-07T12:00:00Z;30.7\\n2024-09-07T13:00:00Z;29.7\\n2024-09-07T14:00:00Z;28.7\\n2024-09-07T15:00:00Z;27.7\\n2024-09-07T16:00:00Z;26.7\\n2024-09-07T17:00:00Z;25.6\\n2024-09-07T18:00:00Z;24.6\\n2024-09-07T19:00:00Z;23.8\\n2024-09-07T20:00:00Z;22.9\\n2024-09-07T21:00:00Z;22.0\\n2024-09-07T22:00:00Z;21.1\\n2024-09-07T23:00:00Z;20.2\\n2024-09-08T00:00:00Z;19.3\\n2024-09-08T01:00:00Z;19.5\\n2024-09-08T02:00:00Z;19.6\\n2024-09-08T03:00:00Z;19.7\\n2024-09-08T04:00:00Z;19.9\\n2024-09-08T05:00:00Z;20.0\\n2024-09-08T06:00:00Z;20.2\\n2024-09-08T07:00:00Z;22.0\\n2024-09-08T08:00:00Z;23.8\\n2024-09-08T09:00:00Z;25.6\\n2024-09-08T10:00:00Z;27.4\\n2024-09-08T11:00:00Z;29.3\\n2024-09-08T12:00:00Z;31.1\\n2024-09-08T13:00:00Z;30.4\\n2024-09-08T14:00:00Z;29.7\\n2024-09-08T15:00:00Z;28.9\\n2024-09-08T16:00:00Z;28.2\\n2024-09-08T17:00:00Z;27.5\\n2024-09-08T18:00:00Z;26.8\\n2024-09-08T19:00:00Z;26.1\\n2024-09-08T20:00:00Z;25.3\\n2024-09-08T21:00:00Z;24.6\\n2024-09-08T22:00:00Z;23.9\\n2024-09-08T23:00:00Z;23.1\\n2024-09-09T00:00:00Z;22.4\\n2024-09-09T01:00:00Z;22.1\\n2024-09-09T02:00:00Z;21.9\\n2024-09-09T03:00:00Z;21.6\\n2024-09-09T04:00:00Z;21.3\\n2024-09-09T05:00:00Z;21.0\\n2024-09-09T06:00:00Z;20.7\\n2024-09-09T07:00:00Z;22.2\\n2024-09-09T08:00:00Z;23.7\\n2024-09-09T09:00:00Z;25.1\\n2024-09-09T10:00:00Z;26.6\\n2024-09-09T11:00:00Z;28.1\\n2024-09-09T12:00:00Z;29.5\\n2024-09-09T13:00:00Z;27.1\\n2024-09-09T14:00:00Z;26.4\\n2024-09-09T15:00:00Z;25.7\\n2024-09-09T16:00:00Z;25.1\\n2024-09-09T17:00:00Z;24.4\\n2024-09-09T18:00:00Z;23.7\\n2024-09-09T19:00:00Z;22.9\\n2024-09-09T20:00:00Z;22.1\\n2024-09-09T21:00:00Z;21.4\\n2024-09-09T22:00:00Z;20.6\\n2024-09-09T23:00:00Z;19.8\\n2024-09-10T00:00:00Z;19.0\\n'\n"
     ]
    }
   ],
   "source": [
    "response = requests.get(url, auth = (username, password)) #here we execute parametrized get request to the End Point\n",
    "print(response.content) # checking just in case something is retrieved"
   ]
  },
  {
   "cell_type": "markdown",
   "metadata": {},
   "source": [
    "When we send a GET request to the server we have to know how it went, right? For the purpose server returns us an error code.\n",
    "\n",
    "In our case we expect '200', this is our happy path. However something else could be returned, i.e. 403, 401, 500, 400\n",
    "\n",
    "Therefore, we use try / except construction below."
   ]
  },
  {
   "cell_type": "code",
   "execution_count": 13,
   "metadata": {},
   "outputs": [
    {
     "name": "stdout",
     "output_type": "stream",
     "text": [
      "            validdate;t_2m:C\n",
      "0  2024-08-30T00:00:00Z;22.2\n",
      "1  2024-08-30T01:00:00Z;20.8\n",
      "2  2024-08-30T02:00:00Z;20.7\n",
      "3  2024-08-30T03:00:00Z;18.7\n",
      "4  2024-08-30T04:00:00Z;19.4\n"
     ]
    }
   ],
   "source": [
    "try:\n",
    "    if response.status_code == 200:\n",
    "        # Convert the response content to a StringIO object and read it as a CSV, because read_csv expects file-like object\n",
    "        csv_data = io.StringIO(response.text) \n",
    "        #convert to dataframe\n",
    "        df = pd.read_csv(csv_data)\n",
    "        # check how it looks like\n",
    "        print(df.head()) \n",
    "except:\n",
    "        #here we return just an error code, so our beloved developer can understand what happened\n",
    "        print(f\"Error: {response.status_code}\")"
   ]
  },
  {
   "cell_type": "markdown",
   "metadata": {},
   "source": [
    "As you can see above we got a dataframe. It consists of one column, where we have dates, times and temperature.\n",
    "\n",
    "Now let us create a 'real' panda's dataframe: \n",
    "* we break down the column to new columns;\n",
    "* add new columns - feature engineering\n",
    "\n",
    "With each CSV record we do the following:\n",
    "* we take a part of record before 'T' after 'T' and after 'Z' and put them into different columns\n",
    "* as a result we remove 'validdate;t_2m:C' this column\n"
   ]
  },
  {
   "cell_type": "code",
   "execution_count": 14,
   "metadata": {},
   "outputs": [
    {
     "data": {
      "text/html": [
       "<div>\n",
       "<style scoped>\n",
       "    .dataframe tbody tr th:only-of-type {\n",
       "        vertical-align: middle;\n",
       "    }\n",
       "\n",
       "    .dataframe tbody tr th {\n",
       "        vertical-align: top;\n",
       "    }\n",
       "\n",
       "    .dataframe thead th {\n",
       "        text-align: right;\n",
       "    }\n",
       "</style>\n",
       "<table border=\"1\" class=\"dataframe\">\n",
       "  <thead>\n",
       "    <tr style=\"text-align: right;\">\n",
       "      <th></th>\n",
       "      <th>validdate;t_2m:C</th>\n",
       "      <th>Date</th>\n",
       "    </tr>\n",
       "  </thead>\n",
       "  <tbody>\n",
       "    <tr>\n",
       "      <th>0</th>\n",
       "      <td>00:00:00Z;22.2</td>\n",
       "      <td>2024-08-30</td>\n",
       "    </tr>\n",
       "    <tr>\n",
       "      <th>1</th>\n",
       "      <td>01:00:00Z;20.8</td>\n",
       "      <td>2024-08-30</td>\n",
       "    </tr>\n",
       "    <tr>\n",
       "      <th>2</th>\n",
       "      <td>02:00:00Z;20.7</td>\n",
       "      <td>2024-08-30</td>\n",
       "    </tr>\n",
       "    <tr>\n",
       "      <th>3</th>\n",
       "      <td>03:00:00Z;18.7</td>\n",
       "      <td>2024-08-30</td>\n",
       "    </tr>\n",
       "    <tr>\n",
       "      <th>4</th>\n",
       "      <td>04:00:00Z;19.4</td>\n",
       "      <td>2024-08-30</td>\n",
       "    </tr>\n",
       "  </tbody>\n",
       "</table>\n",
       "</div>"
      ],
      "text/plain": [
       "  validdate;t_2m:C       Date\n",
       "0   00:00:00Z;22.2 2024-08-30\n",
       "1   01:00:00Z;20.8 2024-08-30\n",
       "2   02:00:00Z;20.7 2024-08-30\n",
       "3   03:00:00Z;18.7 2024-08-30\n",
       "4   04:00:00Z;19.4 2024-08-30"
      ]
     },
     "execution_count": 14,
     "metadata": {},
     "output_type": "execute_result"
    }
   ],
   "source": [
    "# Add Date column and extract a date in the given format\n",
    "df['Date'] = df['validdate;t_2m:C'].str.split('T').str[0]\n",
    "df['Date'] = pd.to_datetime(df['Date'], format='%Y-%m-%d')\n",
    "# Remove the fragment before 'T' in the 'validdate;t_2m:C' column\n",
    "df['validdate;t_2m:C'] = df['validdate;t_2m:C'].str.split('T').str[1]\n",
    "\n",
    "# Check if it looks nice\n",
    "df.head()"
   ]
  },
  {
   "cell_type": "code",
   "execution_count": 15,
   "metadata": {},
   "outputs": [
    {
     "data": {
      "text/html": [
       "<div>\n",
       "<style scoped>\n",
       "    .dataframe tbody tr th:only-of-type {\n",
       "        vertical-align: middle;\n",
       "    }\n",
       "\n",
       "    .dataframe tbody tr th {\n",
       "        vertical-align: top;\n",
       "    }\n",
       "\n",
       "    .dataframe thead th {\n",
       "        text-align: right;\n",
       "    }\n",
       "</style>\n",
       "<table border=\"1\" class=\"dataframe\">\n",
       "  <thead>\n",
       "    <tr style=\"text-align: right;\">\n",
       "      <th></th>\n",
       "      <th>validdate;t_2m:C</th>\n",
       "      <th>Date</th>\n",
       "      <th>Time (Hours)</th>\n",
       "    </tr>\n",
       "  </thead>\n",
       "  <tbody>\n",
       "    <tr>\n",
       "      <th>0</th>\n",
       "      <td>22.2</td>\n",
       "      <td>2024-08-30</td>\n",
       "      <td>0</td>\n",
       "    </tr>\n",
       "    <tr>\n",
       "      <th>1</th>\n",
       "      <td>20.8</td>\n",
       "      <td>2024-08-30</td>\n",
       "      <td>1</td>\n",
       "    </tr>\n",
       "    <tr>\n",
       "      <th>2</th>\n",
       "      <td>20.7</td>\n",
       "      <td>2024-08-30</td>\n",
       "      <td>2</td>\n",
       "    </tr>\n",
       "    <tr>\n",
       "      <th>3</th>\n",
       "      <td>18.7</td>\n",
       "      <td>2024-08-30</td>\n",
       "      <td>3</td>\n",
       "    </tr>\n",
       "    <tr>\n",
       "      <th>4</th>\n",
       "      <td>19.4</td>\n",
       "      <td>2024-08-30</td>\n",
       "      <td>4</td>\n",
       "    </tr>\n",
       "  </tbody>\n",
       "</table>\n",
       "</div>"
      ],
      "text/plain": [
       "  validdate;t_2m:C       Date  Time (Hours)\n",
       "0             22.2 2024-08-30             0\n",
       "1             20.8 2024-08-30             1\n",
       "2             20.7 2024-08-30             2\n",
       "3             18.7 2024-08-30             3\n",
       "4             19.4 2024-08-30             4"
      ]
     },
     "execution_count": 15,
     "metadata": {},
     "output_type": "execute_result"
    }
   ],
   "source": [
    "# Add Time (Hours) we shall leave just hours, since we fetch one time per hour, it is more user friendly\n",
    "# Here we extract the fragment after 'T' and before 'Z'\n",
    "df['Time (Hours)'] = df['validdate;t_2m:C'].str.split('Z').str[0]\n",
    "\n",
    "# We convert extracted fragment to time format\n",
    "df['Time (Hours)'] = pd.to_datetime(df['Time (Hours)'], format='%H:%M:%S').dt.time\n",
    "\n",
    "# We extract hours\n",
    "df['Time (Hours)'] = pd.to_datetime(df['Time (Hours)'].astype(str), format='%H:%M:%S').dt.hour\n",
    "\n",
    "# We remove this fragment from the record\n",
    "df['validdate;t_2m:C'] = df['validdate;t_2m:C'].str.split(';').str[1]\n",
    "\n",
    "# Let us check what we got\n",
    "df.head()"
   ]
  },
  {
   "cell_type": "code",
   "execution_count": 16,
   "metadata": {},
   "outputs": [
    {
     "data": {
      "text/html": [
       "<div>\n",
       "<style scoped>\n",
       "    .dataframe tbody tr th:only-of-type {\n",
       "        vertical-align: middle;\n",
       "    }\n",
       "\n",
       "    .dataframe tbody tr th {\n",
       "        vertical-align: top;\n",
       "    }\n",
       "\n",
       "    .dataframe thead th {\n",
       "        text-align: right;\n",
       "    }\n",
       "</style>\n",
       "<table border=\"1\" class=\"dataframe\">\n",
       "  <thead>\n",
       "    <tr style=\"text-align: right;\">\n",
       "      <th></th>\n",
       "      <th>Date</th>\n",
       "      <th>Time (Hours)</th>\n",
       "      <th>Temperature</th>\n",
       "    </tr>\n",
       "  </thead>\n",
       "  <tbody>\n",
       "    <tr>\n",
       "      <th>0</th>\n",
       "      <td>2024-08-30</td>\n",
       "      <td>0</td>\n",
       "      <td>22.2</td>\n",
       "    </tr>\n",
       "    <tr>\n",
       "      <th>1</th>\n",
       "      <td>2024-08-30</td>\n",
       "      <td>1</td>\n",
       "      <td>20.8</td>\n",
       "    </tr>\n",
       "    <tr>\n",
       "      <th>2</th>\n",
       "      <td>2024-08-30</td>\n",
       "      <td>2</td>\n",
       "      <td>20.7</td>\n",
       "    </tr>\n",
       "    <tr>\n",
       "      <th>3</th>\n",
       "      <td>2024-08-30</td>\n",
       "      <td>3</td>\n",
       "      <td>18.7</td>\n",
       "    </tr>\n",
       "    <tr>\n",
       "      <th>4</th>\n",
       "      <td>2024-08-30</td>\n",
       "      <td>4</td>\n",
       "      <td>19.4</td>\n",
       "    </tr>\n",
       "  </tbody>\n",
       "</table>\n",
       "</div>"
      ],
      "text/plain": [
       "        Date  Time (Hours)  Temperature\n",
       "0 2024-08-30             0         22.2\n",
       "1 2024-08-30             1         20.8\n",
       "2 2024-08-30             2         20.7\n",
       "3 2024-08-30             3         18.7\n",
       "4 2024-08-30             4         19.4"
      ]
     },
     "execution_count": 16,
     "metadata": {},
     "output_type": "execute_result"
    }
   ],
   "source": [
    "# Let us add Temperature column, it will have a 'float' type\n",
    "df['Temperature'] = df['validdate;t_2m:C'].astype(float)\n",
    "\n",
    "# Now let us get rid of the column, it is a technical one and almost empty\n",
    "df.drop(columns=['validdate;t_2m:C'], inplace=True)\n",
    "\n",
    "# let us check results\n",
    "df.head()"
   ]
  },
  {
   "cell_type": "markdown",
   "metadata": {},
   "source": [
    "Let us break down 'Date' into 'Month', 'Year', 'Day' - it is better for performance when we start to explore data, i.e. using visualization\n",
    "\n",
    "Let us also add Name of the Day, this is more user friendly\n",
    "\n",
    "Note: we are not removing the Date column"
   ]
  },
  {
   "cell_type": "code",
   "execution_count": 9,
   "metadata": {},
   "outputs": [
    {
     "data": {
      "text/html": [
       "<div>\n",
       "<style scoped>\n",
       "    .dataframe tbody tr th:only-of-type {\n",
       "        vertical-align: middle;\n",
       "    }\n",
       "\n",
       "    .dataframe tbody tr th {\n",
       "        vertical-align: top;\n",
       "    }\n",
       "\n",
       "    .dataframe thead th {\n",
       "        text-align: right;\n",
       "    }\n",
       "</style>\n",
       "<table border=\"1\" class=\"dataframe\">\n",
       "  <thead>\n",
       "    <tr style=\"text-align: right;\">\n",
       "      <th></th>\n",
       "      <th>Date</th>\n",
       "      <th>Time (Hours)</th>\n",
       "      <th>Temperature</th>\n",
       "      <th>Month</th>\n",
       "      <th>Year</th>\n",
       "      <th>Day</th>\n",
       "      <th>Day Name</th>\n",
       "    </tr>\n",
       "  </thead>\n",
       "  <tbody>\n",
       "    <tr>\n",
       "      <th>0</th>\n",
       "      <td>2024-08-30</td>\n",
       "      <td>0</td>\n",
       "      <td>22.2</td>\n",
       "      <td>August</td>\n",
       "      <td>2024</td>\n",
       "      <td>30</td>\n",
       "      <td>Friday</td>\n",
       "    </tr>\n",
       "    <tr>\n",
       "      <th>1</th>\n",
       "      <td>2024-08-30</td>\n",
       "      <td>1</td>\n",
       "      <td>20.8</td>\n",
       "      <td>August</td>\n",
       "      <td>2024</td>\n",
       "      <td>30</td>\n",
       "      <td>Friday</td>\n",
       "    </tr>\n",
       "    <tr>\n",
       "      <th>2</th>\n",
       "      <td>2024-08-30</td>\n",
       "      <td>2</td>\n",
       "      <td>20.7</td>\n",
       "      <td>August</td>\n",
       "      <td>2024</td>\n",
       "      <td>30</td>\n",
       "      <td>Friday</td>\n",
       "    </tr>\n",
       "    <tr>\n",
       "      <th>3</th>\n",
       "      <td>2024-08-30</td>\n",
       "      <td>3</td>\n",
       "      <td>18.7</td>\n",
       "      <td>August</td>\n",
       "      <td>2024</td>\n",
       "      <td>30</td>\n",
       "      <td>Friday</td>\n",
       "    </tr>\n",
       "    <tr>\n",
       "      <th>4</th>\n",
       "      <td>2024-08-30</td>\n",
       "      <td>4</td>\n",
       "      <td>19.4</td>\n",
       "      <td>August</td>\n",
       "      <td>2024</td>\n",
       "      <td>30</td>\n",
       "      <td>Friday</td>\n",
       "    </tr>\n",
       "  </tbody>\n",
       "</table>\n",
       "</div>"
      ],
      "text/plain": [
       "        Date  Time (Hours)  Temperature   Month  Year  Day Day Name\n",
       "0 2024-08-30             0         22.2  August  2024   30   Friday\n",
       "1 2024-08-30             1         20.8  August  2024   30   Friday\n",
       "2 2024-08-30             2         20.7  August  2024   30   Friday\n",
       "3 2024-08-30             3         18.7  August  2024   30   Friday\n",
       "4 2024-08-30             4         19.4  August  2024   30   Friday"
      ]
     },
     "execution_count": 9,
     "metadata": {},
     "output_type": "execute_result"
    }
   ],
   "source": [
    "df['Month'] = df['Date'].dt.strftime('%B') # month in a from of a name\n",
    "df['Year'] = df['Date'].dt.year # year\n",
    "df['Day'] = df['Date'].dt.day # day\n",
    "df['Day Name'] = df['Date'].dt.day_name() # name of the day, i.e. Friday\n",
    "df.head()"
   ]
  }
 ],
 "metadata": {
  "kernelspec": {
   "display_name": "pp",
   "language": "python",
   "name": "python3"
  },
  "language_info": {
   "codemirror_mode": {
    "name": "ipython",
    "version": 3
   },
   "file_extension": ".py",
   "mimetype": "text/x-python",
   "name": "python",
   "nbconvert_exporter": "python",
   "pygments_lexer": "ipython3",
   "version": "3.11.5"
  }
 },
 "nbformat": 4,
 "nbformat_minor": 2
}
